{
 "cells": [
  {
   "cell_type": "code",
   "execution_count": 7,
   "id": "3af888e3",
   "metadata": {},
   "outputs": [],
   "source": [
    "def wavenum(f,d,g=9.8):\n",
    "    import numpy as np\n",
    "    # INPUTD:\n",
    "    # f: frequency which is a vector\n",
    "    # water depth\n",
    "    # OUTPUT\n",
    "    # wavenumber\n",
    "    # METHOD\n",
    "    # wavenumber is estimated using newtons method. \n",
    "    # Shallow water wavenumber is used as the first guess is \n",
    "    T=1/f\n",
    "    omega = 2 * np.pi *f\n",
    "    k = omega / np.sqrt(g)\n",
    "    f = g * k * np.tanh(k * d) - omega**2\n",
    "    while np.abs(f.max()) > 1e-10:\n",
    "        dfdk = g*k*d*(1/(np.cosh(k*d)))** 2+g*np.tanh(k*d)\n",
    "        k = k - f/dfdk\n",
    "        f = g*k*np.tanh(k*d) - omega**2\n",
    "    return k"
   ]
  },
  {
   "cell_type": "code",
   "execution_count": 8,
   "id": "48125755",
   "metadata": {},
   "outputs": [
    {
     "name": "stdout",
     "output_type": "stream",
     "text": [
      "0.17184626225100758\n"
     ]
    }
   ],
   "source": [
    "T=5\n",
    "d=10\n",
    "wn=wavenum(1/T,d)\n",
    "print(wn)"
   ]
  },
  {
   "cell_type": "code",
   "execution_count": null,
   "id": "e213b048",
   "metadata": {},
   "outputs": [],
   "source": []
  }
 ],
 "metadata": {
  "kernelspec": {
   "display_name": "Python 3 (ipykernel)",
   "language": "python",
   "name": "python3"
  },
  "language_info": {
   "codemirror_mode": {
    "name": "ipython",
    "version": 3
   },
   "file_extension": ".py",
   "mimetype": "text/x-python",
   "name": "python",
   "nbconvert_exporter": "python",
   "pygments_lexer": "ipython3",
   "version": "3.10.5"
  }
 },
 "nbformat": 4,
 "nbformat_minor": 5
}
